{
 "cells": [
  {
   "cell_type": "code",
   "execution_count": 7,
   "metadata": {},
   "outputs": [
    {
     "data": {
      "text/plain": [
       "2"
      ]
     },
     "execution_count": 7,
     "metadata": {},
     "output_type": "execute_result"
    }
   ],
   "source": [
    "import torch\n",
    "import os\n",
    "torch.get_num_threads()"
   ]
  },
  {
   "cell_type": "code",
   "execution_count": 5,
   "metadata": {},
   "outputs": [
    {
     "name": "stdout",
     "output_type": "stream",
     "text": [
      "None\n"
     ]
    }
   ],
   "source": [
    "print(torch.utils.data.get_worker_info())"
   ]
  },
  {
   "cell_type": "code",
   "execution_count": 8,
   "metadata": {},
   "outputs": [
    {
     "data": {
      "text/plain": [
       "4"
      ]
     },
     "execution_count": 8,
     "metadata": {},
     "output_type": "execute_result"
    }
   ],
   "source": [
    "os.cpu_count()"
   ]
  },
  {
   "cell_type": "code",
   "execution_count": 13,
   "metadata": {},
   "outputs": [
    {
     "name": "stdout",
     "output_type": "stream",
     "text": [
      "4\n",
      "4\n"
     ]
    },
    {
     "ename": "AttributeError",
     "evalue": "module 'os' has no attribute 'sched_getaffinity'",
     "output_type": "error",
     "traceback": [
      "\u001b[1;31m---------------------------------------------------------------------------\u001b[0m",
      "\u001b[1;31mAttributeError\u001b[0m                            Traceback (most recent call last)",
      "\u001b[1;32m<ipython-input-13-005ea10fb2dd>\u001b[0m in \u001b[0;36m<module>\u001b[1;34m\u001b[0m\n\u001b[0;32m      5\u001b[0m \u001b[1;33m\u001b[0m\u001b[0m\n\u001b[0;32m      6\u001b[0m \u001b[0mprint\u001b[0m \u001b[1;33m(\u001b[0m\u001b[0mos\u001b[0m\u001b[1;33m.\u001b[0m\u001b[0mcpu_count\u001b[0m\u001b[1;33m(\u001b[0m\u001b[1;33m)\u001b[0m\u001b[1;33m)\u001b[0m\u001b[1;33m\u001b[0m\u001b[1;33m\u001b[0m\u001b[0m\n\u001b[1;32m----> 7\u001b[1;33m \u001b[0mprint\u001b[0m \u001b[1;33m(\u001b[0m\u001b[0mlen\u001b[0m\u001b[1;33m(\u001b[0m\u001b[0mos\u001b[0m\u001b[1;33m.\u001b[0m\u001b[0msched_getaffinity\u001b[0m\u001b[1;33m(\u001b[0m\u001b[1;36m0\u001b[0m\u001b[1;33m)\u001b[0m\u001b[1;33m)\u001b[0m\u001b[1;33m)\u001b[0m\u001b[1;33m\u001b[0m\u001b[1;33m\u001b[0m\u001b[0m\n\u001b[0m",
      "\u001b[1;31mAttributeError\u001b[0m: module 'os' has no attribute 'sched_getaffinity'"
     ]
    }
   ],
   "source": [
    "import multiprocessing\n",
    "import os\n",
    "\n",
    "print (multiprocessing.cpu_count())\n",
    "\n",
    "print (os.cpu_count())\n",
    "print (len(os.sched_getaffinity(0)))"
   ]
  },
  {
   "cell_type": "code",
   "execution_count": 12,
   "metadata": {},
   "outputs": [
    {
     "name": "stdout",
     "output_type": "stream",
     "text": [
      "Number of processors/cores available in the system:\n",
      "4\n",
      "Waiting for threads to complete\n",
      "Thread number 1 printing the value:0Thread number 3 printing the value:0Thread number 2 printing the value:0\n",
      "\n",
      "Thread number 4 printing the value:0\n",
      "\n",
      "Thread number 3 printing the value:1\n",
      "Thread number 2 printing the value:1\n",
      "Thread number 4 printing the value:1\n",
      "Thread number 1 printing the value:1\n",
      "Thread number 3 printing the value:2\n",
      "Thread number 2 printing the value:2\n",
      "Thread number 4 printing the value:2\n",
      "Thread number 1 printing the value:2\n",
      "Thread number 3 printing the value:3\n",
      "Thread number 2 printing the value:3\n",
      "Thread number 4 printing the value:3\n",
      "Thread number 1 printing the value:3\n",
      "Thread number 2 printing the value:4Thread number 3 printing the value:4\n",
      "\n",
      "Thread number 4 printing the value:4\n",
      "Thread number 1 printing the value:4\n",
      "All the child threads have exited\n",
      "Main Thread Exiting\n"
     ]
    }
   ],
   "source": [
    "import os\n",
    "\n",
    "import time\n",
    "\n",
    "from threading import Thread\n",
    "\n",
    " \n",
    "\n",
    "# Thread function\n",
    "\n",
    "def ThreadFunction(threadNum):\n",
    "\n",
    "    for i in range(0, 5):\n",
    "\n",
    "        time.sleep(1)\n",
    "\n",
    "        print(\"Thread number %d printing the value:%d\"%(threadNum, i));\n",
    "\n",
    " \n",
    "\n",
    "# Get the number of processors/cores available in the system\n",
    "\n",
    "cpuCount = os.cpu_count()\n",
    "\n",
    "print(\"Number of processors/cores available in the system:\")\n",
    "\n",
    "print(os.cpu_count())\n",
    "\n",
    " \n",
    "\n",
    "theradList = []\n",
    "\n",
    " \n",
    "\n",
    "# Create number of threads equal to number of cores\n",
    "\n",
    "for i in range(1,cpuCount+1):\n",
    "\n",
    "    thread = Thread(target=ThreadFunction, args=(i,))\n",
    "\n",
    "    theradList.append(thread)\n",
    "\n",
    "    thread.start()\n",
    "\n",
    " \n",
    "\n",
    "# Make the main thread join the child threads\n",
    "\n",
    "print(\"Waiting for threads to complete\")\n",
    "\n",
    "for i in range(cpuCount):\n",
    "\n",
    "    theradList[i].join()\n",
    "\n",
    " \n",
    "\n",
    "print(\"All the child threads have exited\")\n",
    "\n",
    "print(\"Main Thread Exiting\") "
   ]
  },
  {
   "cell_type": "code",
   "execution_count": 14,
   "metadata": {},
   "outputs": [
    {
     "data": {
      "text/plain": [
       "True"
      ]
     },
     "execution_count": 14,
     "metadata": {},
     "output_type": "execute_result"
    }
   ],
   "source": [
    "torch.distributed.is_available()"
   ]
  },
  {
   "cell_type": "code",
   "execution_count": null,
   "metadata": {},
   "outputs": [],
   "source": []
  }
 ],
 "metadata": {
  "kernelspec": {
   "display_name": "Python 3",
   "language": "python",
   "name": "python3"
  },
  "language_info": {
   "codemirror_mode": {
    "name": "ipython",
    "version": 3
   },
   "file_extension": ".py",
   "mimetype": "text/x-python",
   "name": "python",
   "nbconvert_exporter": "python",
   "pygments_lexer": "ipython3",
   "version": "3.8.5"
  },
  "toc": {
   "base_numbering": 1,
   "nav_menu": {},
   "number_sections": true,
   "sideBar": true,
   "skip_h1_title": false,
   "title_cell": "Table of Contents",
   "title_sidebar": "Contents",
   "toc_cell": false,
   "toc_position": {},
   "toc_section_display": true,
   "toc_window_display": false
  }
 },
 "nbformat": 4,
 "nbformat_minor": 4
}
