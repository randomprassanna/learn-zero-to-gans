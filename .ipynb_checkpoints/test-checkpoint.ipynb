{
 "cells": [
  {
   "cell_type": "code",
   "execution_count": 19,
   "metadata": {},
   "outputs": [],
   "source": [
    "import torch\n",
    "import torch.nn as nn"
   ]
  },
  {
   "cell_type": "code",
   "execution_count": 8,
   "metadata": {},
   "outputs": [],
   "source": [
    "x = torch.tensor([[1,2,3]])"
   ]
  },
  {
   "cell_type": "code",
   "execution_count": 9,
   "metadata": {},
   "outputs": [
    {
     "data": {
      "text/plain": [
       "torch.float64"
      ]
     },
     "execution_count": 9,
     "metadata": {},
     "output_type": "execute_result"
    }
   ],
   "source": [
    "x.double().dtype"
   ]
  },
  {
   "cell_type": "code",
   "execution_count": 23,
   "metadata": {},
   "outputs": [],
   "source": [
    "latent_size = 128"
   ]
  },
  {
   "cell_type": "code",
   "execution_count": 24,
   "metadata": {},
   "outputs": [],
   "source": [
    "generator = nn.Sequential(\n",
    "    \n",
    "    #in = latent_size,1,1\n",
    "    nn.ConvTranspose2d(latent_size,256, kernel_size = 4, stride = 1, padding = 0, bias = False),\n",
    "    nn.BatchNorm2d(256),\n",
    "    nn.ReLU(True),\n",
    "    # out: 256,4,4\n",
    "\n",
    "    nn.ConvTranspose2d(256,128, kernel_size = 3, stride = 2, padding = 1, bias = False),\n",
    "    nn.BatchNorm2d(128),\n",
    "    nn.ReLU(True),\n",
    "    #out= 128,7,7\n",
    "\n",
    "    nn.ConvTranspose2d(128,64, kernel_size = 4, stride = 2, padding = 1, bias = False),\n",
    "    nn.BatchNorm2d(64),\n",
    "    nn.ReLU(True),\n",
    "    #out = 64,14,14\n",
    "\n",
    "    nn.ConvTranspose2d(64,8, kernel_size = 4, stride = 2, padding = 1, bias = False),\n",
    "    nn.BatchNorm2d(8),\n",
    "    nn.ReLU(True),\n",
    "    #out = 8,28,28\n",
    "\n",
    "    nn.ConvTranspose2d(8,1, kernel_size = 3, stride = 1, padding = 1, bias = False),\n",
    "    nn.Tanh()\n",
    "    #out = 1,28,28\n",
    "    \n",
    ")"
   ]
  },
  {
   "cell_type": "code",
   "execution_count": 25,
   "metadata": {},
   "outputs": [],
   "source": [
    "g = generator\n",
    "# g = torch('G.pth')"
   ]
  },
  {
   "cell_type": "code",
   "execution_count": 26,
   "metadata": {},
   "outputs": [
    {
     "data": {
      "text/plain": [
       "Sequential(\n",
       "  (0): ConvTranspose2d(128, 256, kernel_size=(4, 4), stride=(1, 1), bias=False)\n",
       "  (1): BatchNorm2d(256, eps=1e-05, momentum=0.1, affine=True, track_running_stats=True)\n",
       "  (2): ReLU(inplace=True)\n",
       "  (3): ConvTranspose2d(256, 128, kernel_size=(3, 3), stride=(2, 2), padding=(1, 1), bias=False)\n",
       "  (4): BatchNorm2d(128, eps=1e-05, momentum=0.1, affine=True, track_running_stats=True)\n",
       "  (5): ReLU(inplace=True)\n",
       "  (6): ConvTranspose2d(128, 64, kernel_size=(4, 4), stride=(2, 2), padding=(1, 1), bias=False)\n",
       "  (7): BatchNorm2d(64, eps=1e-05, momentum=0.1, affine=True, track_running_stats=True)\n",
       "  (8): ReLU(inplace=True)\n",
       "  (9): ConvTranspose2d(64, 8, kernel_size=(4, 4), stride=(2, 2), padding=(1, 1), bias=False)\n",
       "  (10): BatchNorm2d(8, eps=1e-05, momentum=0.1, affine=True, track_running_stats=True)\n",
       "  (11): ReLU(inplace=True)\n",
       "  (12): ConvTranspose2d(8, 1, kernel_size=(3, 3), stride=(1, 1), padding=(1, 1), bias=False)\n",
       "  (13): Tanh()\n",
       ")"
      ]
     },
     "execution_count": 26,
     "metadata": {},
     "output_type": "execute_result"
    }
   ],
   "source": [
    "g.eval()"
   ]
  },
  {
   "cell_type": "code",
   "execution_count": 30,
   "metadata": {},
   "outputs": [
    {
     "name": "stdout",
     "output_type": "stream",
     "text": [
      "torch.Size([1, 1, 28, 28])\n"
     ]
    }
   ],
   "source": [
    "xb = torch.randn(1,128, 1, 1) # random latent tensors\n",
    "fake_images = g(xb)\n",
    "print(fake_images.shape)\n"
   ]
  },
  {
   "cell_type": "code",
   "execution_count": 29,
   "metadata": {},
   "outputs": [
    {
     "data": {
      "text/plain": [
       "tensor([[[[ 1.2581e-04, -2.6582e-04,  1.6767e-03,  ..., -1.9258e-03,\n",
       "            1.0004e-03, -5.8186e-04],\n",
       "          [-6.9059e-04,  3.7485e-04, -4.7942e-03,  ...,  1.4319e-03,\n",
       "           -1.8629e-03,  1.1901e-03],\n",
       "          [ 2.5223e-03,  9.9368e-04,  3.3277e-03,  ..., -6.5176e-04,\n",
       "            1.8400e-05, -2.7379e-03],\n",
       "          ...,\n",
       "          [ 2.8422e-04,  1.9442e-03, -2.8074e-03,  ...,  3.9321e-03,\n",
       "           -1.9418e-03,  1.2901e-03],\n",
       "          [ 4.4273e-04, -1.8003e-03,  3.9976e-03,  ..., -2.2830e-03,\n",
       "            3.1193e-03,  1.1019e-03],\n",
       "          [ 8.8724e-04,  1.9461e-03,  2.1989e-03,  ...,  2.2163e-03,\n",
       "            2.4609e-03,  1.2891e-03]]],\n",
       "\n",
       "\n",
       "        [[[-3.7188e-04,  1.2771e-03,  3.0129e-03,  ..., -7.5413e-04,\n",
       "            9.8492e-04, -1.9021e-03],\n",
       "          [-6.7560e-04, -6.3310e-04,  7.5181e-04,  ...,  1.5245e-03,\n",
       "            1.1401e-03, -3.1393e-04],\n",
       "          [ 1.9610e-03,  5.3350e-04, -6.8131e-04,  ..., -3.8197e-04,\n",
       "            2.2046e-03, -1.8657e-03],\n",
       "          ...,\n",
       "          [-9.8658e-05,  3.8108e-04, -4.4115e-03,  ..., -1.4376e-03,\n",
       "           -2.5960e-03,  8.3706e-04],\n",
       "          [-1.1617e-03, -9.7526e-04,  2.2563e-03,  ..., -1.9765e-03,\n",
       "            1.9398e-03, -1.6014e-04],\n",
       "          [-8.3824e-05,  2.4184e-03,  1.0205e-04,  ...,  3.4761e-03,\n",
       "            1.1987e-03,  1.5225e-03]]],\n",
       "\n",
       "\n",
       "        [[[ 3.4715e-04, -9.9662e-05, -1.5091e-03,  ..., -1.0913e-03,\n",
       "            2.1523e-03, -8.9789e-04],\n",
       "          [ 5.9707e-04,  6.1758e-04,  4.0427e-04,  ...,  1.6272e-03,\n",
       "           -1.9894e-03,  8.4649e-04],\n",
       "          [ 1.3994e-03,  2.3182e-04,  4.0303e-04,  ..., -2.8915e-03,\n",
       "           -2.0574e-04, -4.1785e-03],\n",
       "          ...,\n",
       "          [ 1.4852e-04,  1.7637e-03, -6.4096e-03,  ...,  3.5361e-03,\n",
       "            3.5588e-03,  1.6025e-03],\n",
       "          [ 1.6273e-03, -1.0036e-03,  1.5852e-03,  ..., -2.5743e-03,\n",
       "            6.6104e-04,  1.8579e-03],\n",
       "          [ 1.4773e-03,  2.7754e-03,  1.4684e-04,  ...,  1.8021e-03,\n",
       "            9.2263e-04,  1.1879e-03]]],\n",
       "\n",
       "\n",
       "        ...,\n",
       "\n",
       "\n",
       "        [[[ 1.0522e-04, -9.5801e-04,  1.8931e-04,  ..., -1.7453e-03,\n",
       "            1.7435e-03, -1.1475e-03],\n",
       "          [ 1.0226e-03,  1.4513e-03, -2.0265e-03,  ...,  5.0826e-04,\n",
       "           -1.2271e-03,  4.0906e-04],\n",
       "          [ 1.4896e-03,  2.9868e-03,  2.4312e-03,  ..., -1.5801e-03,\n",
       "            2.9870e-04, -2.3982e-03],\n",
       "          ...,\n",
       "          [-1.3558e-03,  2.2251e-03, -1.6225e-03,  ...,  1.1897e-03,\n",
       "           -5.2730e-03,  8.4445e-05],\n",
       "          [ 1.6335e-03,  5.9985e-04,  2.5316e-04,  ..., -1.5468e-03,\n",
       "            2.6278e-03,  1.2788e-04],\n",
       "          [-6.7647e-05,  3.4243e-04,  4.2342e-05,  ...,  4.1934e-03,\n",
       "            8.1884e-04,  4.5002e-05]]],\n",
       "\n",
       "\n",
       "        [[[-1.1485e-03, -1.0241e-03, -9.1450e-04,  ..., -9.8990e-04,\n",
       "            2.5170e-03, -1.1326e-03],\n",
       "          [-7.8485e-05,  1.8493e-05, -2.3311e-03,  ..., -1.6078e-04,\n",
       "            1.8231e-04,  3.8863e-04],\n",
       "          [ 5.3771e-04,  1.7048e-03,  1.4701e-03,  ..., -1.9543e-03,\n",
       "            3.4007e-04, -2.5744e-03],\n",
       "          ...,\n",
       "          [-1.3600e-03,  4.6501e-03,  1.5433e-03,  ...,  1.7508e-03,\n",
       "            2.6551e-03, -2.7243e-04],\n",
       "          [ 9.9929e-04, -1.2359e-03,  3.4941e-03,  ...,  1.6791e-03,\n",
       "            1.0427e-04,  6.5266e-04],\n",
       "          [ 1.2754e-03,  8.2454e-04,  1.3008e-03,  ...,  7.1705e-04,\n",
       "            2.3964e-03,  1.4731e-03]]],\n",
       "\n",
       "\n",
       "        [[[ 7.0384e-04, -3.9485e-04,  1.8336e-03,  ...,  2.6890e-04,\n",
       "            7.8554e-04, -7.8289e-04],\n",
       "          [-3.0729e-04,  5.9948e-04,  1.9914e-03,  ..., -6.3021e-04,\n",
       "           -2.1491e-03,  1.3945e-05],\n",
       "          [ 4.6537e-05,  2.5316e-03,  2.5407e-03,  ..., -3.8520e-03,\n",
       "           -1.9354e-03, -4.0215e-03],\n",
       "          ...,\n",
       "          [ 6.7973e-04,  1.0797e-03,  1.9763e-04,  ...,  2.2765e-03,\n",
       "           -1.5176e-03,  2.7465e-03],\n",
       "          [ 1.7614e-03,  6.9629e-04,  1.3286e-03,  ..., -9.0806e-04,\n",
       "            3.5092e-03,  6.8845e-04],\n",
       "          [-3.5826e-04,  6.8095e-04,  6.6757e-04,  ...,  3.1926e-03,\n",
       "            4.2032e-04, -2.3749e-07]]]], grad_fn=<TanhBackward>)"
      ]
     },
     "execution_count": 29,
     "metadata": {},
     "output_type": "execute_result"
    }
   ],
   "source": [
    "fake_images"
   ]
  }
 ],
 "metadata": {
  "kernelspec": {
   "display_name": "Python 3",
   "language": "python",
   "name": "python3"
  },
  "language_info": {
   "codemirror_mode": {
    "name": "ipython",
    "version": 3
   },
   "file_extension": ".py",
   "mimetype": "text/x-python",
   "name": "python",
   "nbconvert_exporter": "python",
   "pygments_lexer": "ipython3",
   "version": "3.8.5"
  },
  "toc": {
   "base_numbering": 1,
   "nav_menu": {},
   "number_sections": true,
   "sideBar": true,
   "skip_h1_title": false,
   "title_cell": "Table of Contents",
   "title_sidebar": "Contents",
   "toc_cell": false,
   "toc_position": {},
   "toc_section_display": true,
   "toc_window_display": false
  }
 },
 "nbformat": 4,
 "nbformat_minor": 4
}
